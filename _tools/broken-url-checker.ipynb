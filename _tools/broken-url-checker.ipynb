{
 "cells": [
  {
   "cell_type": "code",
   "execution_count": 1,
   "id": "16ed9039",
   "metadata": {},
   "outputs": [],
   "source": [
    "import os\n",
    "import requests\n",
    "from bs4 import BeautifulSoup\n",
    "import re\n",
    "from tqdm.notebook import tqdm"
   ]
  },
  {
   "cell_type": "code",
   "execution_count": 2,
   "id": "b1f35da5",
   "metadata": {},
   "outputs": [
    {
     "data": {
      "text/plain": [
       "'../_site/resume.html'"
      ]
     },
     "execution_count": 2,
     "metadata": {},
     "output_type": "execute_result"
    }
   ],
   "source": [
    "def find_files(path, file_extension):\n",
    "    '''Yields the full path to all files with the given extension in the given directory and its subdirectories.'''\n",
    "\n",
    "    for dirpath, subdirs, files in os.walk(path):\n",
    "        for filename in files:\n",
    "            if filename.endswith(file_extension):\n",
    "                yield os.path.join(dirpath, filename)\n",
    "\n",
    "next(find_files(path='../_site/', file_extension='.html'))"
   ]
  },
  {
   "cell_type": "code",
   "execution_count": 3,
   "id": "4f965c89",
   "metadata": {},
   "outputs": [],
   "source": [
    "def validate_url(url):\n",
    "    '''Raises an exception if the given url is inaccessible.'''\n",
    "\n",
    "    r = requests.head(url)\n",
    "    try:\n",
    "        r.raise_for_status()\n",
    "    except Exception as e:\n",
    "        if r.status_code != 403:\n",
    "            raise e\n",
    "\n",
    "validate_url(url='http://google.com/')"
   ]
  },
  {
   "cell_type": "code",
   "execution_count": 4,
   "id": "2fb02b98",
   "metadata": {},
   "outputs": [
    {
     "data": {
      "text/plain": [
       "'http://johnnyoko.com/#'"
      ]
     },
     "execution_count": 4,
     "metadata": {},
     "output_type": "execute_result"
    }
   ],
   "source": [
    "def get_links(path):\n",
    "    html_page = ''\n",
    "    with open(path) as in_file:\n",
    "        html_page = in_file.read()\n",
    "    soup = BeautifulSoup(html_page)\n",
    "    for link in soup.findAll('a', attrs={'href': re.compile('^https?://')}):\n",
    "        yield link.get('href').replace('localhost:4000', 'johnnyoko.com')\n",
    "\n",
    "next(get_links('../_site/index.html'))"
   ]
  },
  {
   "cell_type": "code",
   "execution_count": 5,
   "id": "bbf13c2a",
   "metadata": {},
   "outputs": [
    {
     "data": {
      "application/vnd.jupyter.widget-view+json": {
       "model_id": "8018a423c7a14894a6f9933f30d7c618",
       "version_major": 2,
       "version_minor": 0
      },
      "text/plain": [
       "  0%|          | 0/159 [00:00<?, ?it/s]"
      ]
     },
     "metadata": {},
     "output_type": "display_data"
    },
    {
     "name": "stdout",
     "output_type": "stream",
     "text": [
      "../_site/2013/03/01/fun-with-the-python-reddit-api-wrapper-and-word-clouds/index.html\n",
      "404 Client Error: Not Found for url: http://www.wordle.net/\n",
      "\n",
      "../_site/2013/03/12/retracing-the-evolution-of-reddit-through-post-data/index.html\n",
      "502 Server Error: Bad Gateway for url: https://www.reddit.com/user/jedberg\n",
      "\n",
      "../_site/2013/07/21/evolution-isnt-over-until-you-click-stop/index.html\n",
      "404 Client Error: Not Found for url: http://myxo.css.msu.edu/ecoli/\n",
      "\n",
      "../_site/2013/07/31/evolving-ecosystems-can-change-more-than-previously-thought/index.html\n",
      "420 Client Error: Enhance Your Calm for url: http://www.jstor.org/stable/1293834\n",
      "\n",
      "../_site/2014/05/20/skyrocketing-student-enrollment-is-partly-to-blame-for-rising-college-costs/index.html\n",
      "HTTPConnectionPool(host='americandream2-0.com', port=80): Max retries exceeded with url: / (Caused by NewConnectionError('<urllib3.connection.HTTPConnection object at 0x7fa07103efa0>: Failed to establish a new connection: [Errno 60] Operation timed out'))\n",
      "\n",
      "../_site/2014/05/16/popular-subreddits-have-predictable-cycles-of-virality/index.html\n",
      "HTTPConnectionPool(host='www.redditmetrics.com', port=80): Max retries exceeded with url: / (Caused by NewConnectionError('<urllib3.connection.HTTPConnection object at 0x7fa090c4a730>: Failed to establish a new connection: [Errno 8] nodename nor servname provided, or not known'))\n",
      "\n",
      "../_site/2014/09/28/the-most-upvoted-post-on-reddit-every-day/index.html\n",
      "405 Client Error: Method Not Allowed for url: http://thenextweb.com/socialmedia/2013/12/06/social-networks-people-using-get-breaking-news/\n",
      "\n",
      "../_site/2014/09/13/who-are-the-climate-change-deniers/index.html\n",
      "HTTPConnectionPool(host='www.culturalcognition.net', port=80): Max retries exceeded with url: /blog/2014/6/23/theyve-already-gotten-the-memo-what-the-public-rs-ds-think-c.html (Caused by NewConnectionError('<urllib3.connection.HTTPConnection object at 0x7fa060127be0>: Failed to establish a new connection: [Errno 8] nodename nor servname provided, or not known'))\n",
      "\n",
      "../_site/2014/08/28/where-the-u-s-gets-its-oil-from/index.html\n",
      "404 Client Error: Not Found for url: http://online.wsj.com/articles/gas-prices-wallop-wallets-1404336800\n",
      "\n",
      "../_site/2014/01/24/a-tech-focused-guide-to-increasing-your-influence-on-twitter/index.html\n",
      "404 Client Error: Not Found for url: http://www.kernelmag.com/features/report/5584/how-i-bought-a-better-klout-score-and-why/\n",
      "\n",
      "../_site/2014/01/24/a-tech-focused-guide-to-increasing-your-influence-on-twitter/index.html\n",
      "404 Client Error: Not Found for url: http://wewillraakyou.com/2010/12/klout-is-broken/\n",
      "\n",
      "../_site/2014/06/28/how-to-make-beautiful-data-visualizations-in-python-with-matplotlib/index.html\n",
      "503 Server Error: Service Unavailable for url: https://www.amazon.com/The-Visual-Display-Quantitative-Information/dp/0961392142\n",
      "\n",
      "../_site/2014/06/28/how-to-make-beautiful-data-visualizations-in-python-with-matplotlib/index.html\n",
      "HTTPConnectionPool(host='ggplot.yhathq.com', port=80): Max retries exceeded with url: / (Caused by NewConnectionError('<urllib3.connection.HTTPConnection object at 0x7fa0809a4eb0>: Failed to establish a new connection: [Errno 8] nodename nor servname provided, or not known'))\n",
      "\n",
      "../_site/2014/06/21/we-can-only-forecast-the-weather-a-few-days-into-the-future/index.html\n",
      "406 Client Error: Not Acceptable for url: http://www.forecastwatch.com/\n",
      "\n"
     ]
    },
    {
     "name": "stderr",
     "output_type": "stream",
     "text": [
      "\n",
      "KeyboardInterrupt\n",
      "\n"
     ]
    }
   ],
   "source": [
    "for html_file in tqdm(list(find_files(path='../_site/', file_extension='.html'))):\n",
    "    link_urls = set(get_links(html_file))\n",
    "    for link_url in link_urls:\n",
    "        try:\n",
    "            validate_url(link_url)\n",
    "        except Exception as e:\n",
    "            print(html_file)\n",
    "            print(e)\n",
    "            print()"
   ]
  },
  {
   "cell_type": "code",
   "execution_count": null,
   "id": "4f1e6ba7",
   "metadata": {},
   "outputs": [],
   "source": []
  },
  {
   "cell_type": "code",
   "execution_count": null,
   "id": "e13ca373",
   "metadata": {},
   "outputs": [],
   "source": []
  },
  {
   "cell_type": "code",
   "execution_count": null,
   "id": "9fd811c4",
   "metadata": {},
   "outputs": [],
   "source": []
  },
  {
   "cell_type": "code",
   "execution_count": null,
   "id": "7af3bb2f",
   "metadata": {},
   "outputs": [],
   "source": []
  },
  {
   "cell_type": "code",
   "execution_count": null,
   "id": "5d72b6ea",
   "metadata": {},
   "outputs": [],
   "source": []
  },
  {
   "cell_type": "code",
   "execution_count": null,
   "id": "8b4683d7",
   "metadata": {},
   "outputs": [],
   "source": []
  },
  {
   "cell_type": "code",
   "execution_count": null,
   "id": "da29aec6",
   "metadata": {},
   "outputs": [],
   "source": []
  },
  {
   "cell_type": "code",
   "execution_count": null,
   "id": "97ac408c",
   "metadata": {},
   "outputs": [],
   "source": []
  },
  {
   "cell_type": "code",
   "execution_count": null,
   "id": "a2b43d67",
   "metadata": {},
   "outputs": [],
   "source": []
  },
  {
   "cell_type": "code",
   "execution_count": null,
   "id": "c800fef9",
   "metadata": {},
   "outputs": [],
   "source": []
  },
  {
   "cell_type": "code",
   "execution_count": null,
   "id": "96fe53fd",
   "metadata": {},
   "outputs": [],
   "source": []
  },
  {
   "cell_type": "code",
   "execution_count": null,
   "id": "64fea92c",
   "metadata": {},
   "outputs": [],
   "source": []
  },
  {
   "cell_type": "code",
   "execution_count": null,
   "id": "39bf7f00",
   "metadata": {},
   "outputs": [],
   "source": []
  },
  {
   "cell_type": "code",
   "execution_count": null,
   "id": "748419a5",
   "metadata": {},
   "outputs": [],
   "source": []
  }
 ],
 "metadata": {
  "kernelspec": {
   "display_name": "Python 3 (ipykernel)",
   "language": "python",
   "name": "python3"
  },
  "language_info": {
   "codemirror_mode": {
    "name": "ipython",
    "version": 3
   },
   "file_extension": ".py",
   "mimetype": "text/x-python",
   "name": "python",
   "nbconvert_exporter": "python",
   "pygments_lexer": "ipython3",
   "version": "3.9.12"
  }
 },
 "nbformat": 4,
 "nbformat_minor": 5
}
